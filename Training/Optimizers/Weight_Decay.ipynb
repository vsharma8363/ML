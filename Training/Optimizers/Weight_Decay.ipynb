{
 "cells": [
  {
   "cell_type": "markdown",
   "metadata": {},
   "source": [
    "# Weight Decay\n",
    "\n",
    "Why use weight-decay?\n",
    "- Prevent overfitting\n",
    "- Prevent exploding gradients\n",
    "\n",
    "How does it work?\n",
    "- Modifies the loss function to incorporate the weights (and/or biases), preventing them from growing too large as the loss would similarly increase preventing backpropogation from increasing those weights\n",
    "\n",
    "```\n",
    "loss = loss + (weight decay parameter * norm of the weights)\n",
    "\n",
    "# loss will increase with weights preventing them from growing too large\n",
    "```\n",
    "\n",
    "Good starting values:\n",
    "- 1e-4"
   ]
  },
  {
   "cell_type": "markdown",
   "metadata": {},
   "source": [
    "PyTorch\n",
    "- Applies weight decay to both biases and weights"
   ]
  }
 ],
 "metadata": {
  "language_info": {
   "name": "python"
  }
 },
 "nbformat": 4,
 "nbformat_minor": 2
}
